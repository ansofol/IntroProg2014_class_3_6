{
 "cells": [
  {
   "cell_type": "markdown",
   "metadata": {},
   "source": [
    "# Problem set 5: Writing your own algorithms"
   ]
  },
  {
   "cell_type": "markdown",
   "metadata": {},
   "source": [
    "This problem set has no tasks, but only problems of increasing complexity. See how far you can get :)"
   ]
  },
  {
   "cell_type": "code",
   "execution_count": 1,
   "metadata": {},
   "outputs": [],
   "source": [
    "import math"
   ]
  },
  {
   "cell_type": "markdown",
   "metadata": {},
   "source": [
    "# Factorial"
   ]
  },
  {
   "cell_type": "markdown",
   "metadata": {},
   "source": [
    "Remember that the factorial of $n$ is\n",
    "\n",
    "$$\n",
    "n\\cdot(n-1)\\cdot(n-2)\\cdot...\\cdot 1\n",
    "$$\n",
    "\n",
    "**Problem:** Correct the following function so that it returns the factorial of n using *functional recursion*."
   ]
  },
  {
   "cell_type": "code",
   "execution_count": 2,
   "metadata": {},
   "outputs": [
    {
     "name": "stdout",
     "output_type": "stream",
     "text": [
      "120\n",
      "120\n"
     ]
    }
   ],
   "source": [
    "## use the fact that n! = n*(n-1)*(n-2)*...*1 = n*(n-1)!\n",
    "def factorial(n):\n",
    "    if n == 1:\n",
    "        return 1\n",
    "    else:\n",
    "        return n*factorial(n-1)\n",
    "    \n",
    "print(factorial(5))\n",
    "\n",
    "## Or without recursion:\n",
    "def factorial2(n):\n",
    "    fac = 1\n",
    "    for x in range(1, n+1):\n",
    "        fac *= x\n",
    "    return fac\n",
    "\n",
    "print(factorial2(5))"
   ]
  },
  {
   "cell_type": "markdown",
   "metadata": {},
   "source": [
    "**Answer:** see A1.py"
   ]
  },
  {
   "cell_type": "markdown",
   "metadata": {},
   "source": [
    "# Descending bubble sort"
   ]
  },
  {
   "cell_type": "markdown",
   "metadata": {},
   "source": [
    "**Problem:** Sort a list of numbers in-place descending (from high to low).\n",
    "\n",
    "**Inputs:** List of numbers.\n",
    "\n",
    "**Outputs:** None.\n",
    "\n",
    "**Algorithm:** "
   ]
  },
  {
   "cell_type": "code",
   "execution_count": 3,
   "metadata": {},
   "outputs": [
    {
     "name": "stdout",
     "output_type": "stream",
     "text": [
      "sorted [93, 77, 55, 54, 44, 31, 26, 20, 17]\n"
     ]
    }
   ],
   "source": [
    "L = [54, 26, 93, 17, 77, 31, 44, 55, 20] # test list\n",
    "\n",
    "# write your code here (hint: use the bubble_sort() algorithm from the lectures)\n",
    "def bubble_sort(L):\n",
    "    n = len(L)\n",
    "    for i in range(n-1, 0, -1): ## <---- outer loop: repeat n times\n",
    "        for j in range(0, i): ## <---- inner loop: loop though n elements\n",
    "            if L[j] < L[j+1]:      ## <------- compare adjacent elements\n",
    "                L[j], L[j+1] = L[j+1], L[j] ## <---- swap if necessary (done inplace)\n",
    "                \n",
    "    return L\n",
    "\n",
    "bubble_sort(L)\n",
    "print('sorted',L)"
   ]
  },
  {
   "cell_type": "code",
   "execution_count": 4,
   "metadata": {},
   "outputs": [
    {
     "data": {
      "text/plain": [
       "[93, 77, 55, 54, 44, 31, 26, 20, 17]"
      ]
     },
     "execution_count": 4,
     "metadata": {},
     "output_type": "execute_result"
    }
   ],
   "source": [
    "L = [54, 26, 93, 17, 77, 31, 44, 55, 20] # test list\n",
    "\n",
    "## you can also do this using recursion!\n",
    "def bubble_sort_recursive(L):\n",
    "    n = len(L)\n",
    "    if n < 2: ## <-------- if the list is short that 2 elements, it is already sorted\n",
    "        return L\n",
    "    else:\n",
    "        for i in range(0, n-1): ## <---- loop through n-1 elements\n",
    "            if L[i] < L[i+1]:\n",
    "                L[i], L[i+1] = L[i+1], L[i] ## <---- swap if necessary\n",
    "        return bubble_sort_recursive(L[:-1]) + [L[-1]] ## Now the smallest element is at the end. So we call bubble_sort on the list without the last element and append the last element to the sorted list\n",
    "    \n",
    "bubble_sort_recursive(L)\n",
    "\n",
    "## this is not particularly efficient, it's just to show that it can be done"
   ]
  },
  {
   "cell_type": "markdown",
   "metadata": {},
   "source": [
    "**Answer:** see A2.py"
   ]
  },
  {
   "cell_type": "markdown",
   "metadata": {},
   "source": [
    "# Linear search for index"
   ]
  },
  {
   "cell_type": "markdown",
   "metadata": {},
   "source": [
    "**Problem:** Consider a number `x` and a sorted list of numbers `L`. Assume `L[0] <= x < L[-1]`. Find the index `i` such that `L[i] <= x < L[i+1]` using a linear search.\n",
    "\n",
    "**Inputs:** A sorted list of numbers `L` and a number `x`.\n",
    "    \n",
    "**Outputs:** Integer."
   ]
  },
  {
   "cell_type": "code",
   "execution_count": 5,
   "metadata": {},
   "outputs": [
    {
     "name": "stdout",
     "output_type": "stream",
     "text": [
      "3 gives the index 2\n",
      "7 gives the index 2\n",
      "13 gives the index 4\n",
      "18 gives the index 5\n",
      "32 gives the index 7\n"
     ]
    }
   ],
   "source": [
    "L = [0, 1, 2, 8, 13, 17, 19, 32, 42] # test list\n",
    "\n",
    "# write your code here (hint: use the linear_seach() algorithm from the lecture)\n",
    "def linear_search(L,x):\n",
    "    for i, val in enumerate(L): ## <---- loop through sorted list\n",
    "        if val > x: ## <----- if the value is greater than x, we are past the correct index\n",
    "            return i-1\n",
    "\n",
    "# test your function\n",
    "for x in [3,7,13,18,32]:\n",
    "    i = linear_search(L,x)\n",
    "    print(f'{x} gives the index {i}')\n",
    "    assert(x >= L[i] and x < L[i+1]),(x,i,L[i])"
   ]
  },
  {
   "cell_type": "markdown",
   "metadata": {},
   "source": [
    "**Answer:** see A3.py"
   ]
  },
  {
   "cell_type": "markdown",
   "metadata": {},
   "source": [
    "# Bisection"
   ]
  },
  {
   "cell_type": "markdown",
   "metadata": {},
   "source": [
    "**Problem:** Find an (apporximate) solution to $f(x) = 0$ in the interval $[a,b]$ where $f(a)f(b) < 0$ (i.e. one is positive and the other is negative). \n",
    "\n",
    "> If $f$ is a *continuous* function then the intermediate value theorem ensures that a solution exists.\n",
    "\n",
    "**Inputs:** Function $f$, float interval $[a,b]$, float tolerance $\\epsilon > 0$.\n",
    "\n",
    "**Outputs:** Float.\n",
    "\n",
    "**Algorithm:** `bisection()`\n",
    "\n",
    "1. Set $a_0 = a$ and $b_0 = b$.\n",
    "\n",
    "2. Compute $f(m_0)$ where $m_0 = (a_0 + b_0)/2$ is the midpoint\n",
    "\n",
    "3. Determine the next sub-interval $[a_1,b_1]$:\n",
    "\n",
    "  i. If $f(a_0)f(m_0) < 0$ then $a_1 = a_0$ and $b_1 = m_0$\n",
    "\n",
    "  ii. If $f(m_0)f(b_0) < 0$ then $a_1 = m_0$ and $b_1 = b_0$\n",
    "\n",
    "4. Repeat step 2 and step 3 until $|f(m_n)| < \\epsilon$"
   ]
  },
  {
   "cell_type": "code",
   "execution_count": 6,
   "metadata": {},
   "outputs": [
    {
     "name": "stdout",
     "output_type": "stream",
     "text": [
      "0.8095238097012043\n"
     ]
    }
   ],
   "source": [
    "f = lambda x: (2.1*x-1.7)*(x-3.3) # test function\n",
    "def bisection(f,a,b,tau):\n",
    "    \n",
    "    # 1: check if the function changes sign\n",
    "    if f(a)*f(b) > 0:\n",
    "        raise ValueError('f(a) and f(b) must have opposite signs')\n",
    "    \n",
    "    # 2: start the bisection\n",
    "    while True:\n",
    "\n",
    "        # 3: find the midpoint\n",
    "        midpoint = (a+b)/2\n",
    "        f_a = f(a)\n",
    "        f_b = f(b)\n",
    "        f_mid = f(midpoint)\n",
    "        \n",
    "        # 3.i: update the interval\n",
    "        if f_a*f_mid < 0: ## <---- if the sign of the midpoint is different from a, then the root is in the interval [a, midpoint]\n",
    "            b = midpoint\n",
    "        # 3.ii\n",
    "        else:\n",
    "            a = midpoint ## <---- otherwise it's in the interval [midpoint, b]\n",
    "\n",
    "        # 4 - return if smaller than tolerance\n",
    "        if abs(f(midpoint))<tau:\n",
    "            return midpoint\n",
    "\n",
    "result = bisection(f,0,1,1e-8)\n",
    "print(result)"
   ]
  },
  {
   "cell_type": "markdown",
   "metadata": {},
   "source": [
    "**Answer:** see A4.py"
   ]
  },
  {
   "cell_type": "markdown",
   "metadata": {},
   "source": [
    "# Find prime numbers (hard)"
   ]
  },
  {
   "cell_type": "markdown",
   "metadata": {},
   "source": [
    "**Goal:** Implement a function in Python for the sieve of Eratosthenes.\n",
    "\n",
    "The **sieve of Eratosthenes** is a simple algorithm for finding all prime numbers up to a specified integer. It was created by the ancient Greek mathematician Eratosthenes. The algorithm to find all the prime numbers less than or equal to a given integer $n$.\n",
    "\n",
    "**Algorithm:** `sieve_()`\n",
    "\n",
    "1. Create a list of integers from $2$ to $n$: $2, 3, 4, ..., n$ (all potentially primes)\n",
    "\n",
    "    `primes = list(range(2,n+1))`\n",
    "\n",
    "2. Start with a counter $i$ set to $2$, i.e. the first prime number\n",
    "\n",
    "3. Starting from $i+i$, count up by $i$ and remove those numbers from the list, i.e. $2i$, $3i$, $4i$ etc.\n",
    "\n",
    "    `primes.remove(i)`\n",
    "    \n",
    "4. Find the first number of the list following $i$. This is the next prime number.\n",
    "\n",
    "5. Set $i$ to the number found in the previous step.\n",
    "\n",
    "6. Repeat steps 3-5 until $i$ is greater than $\\sqrt {n}$.\n",
    "7. All the numbers, which are still in the list, are prime numbers."
   ]
  },
  {
   "cell_type": "markdown",
   "metadata": {},
   "source": [
    "**A more detailed explanation:** See this [video](https://www.youtube.com/watch?v=klcIklsWzrY&feature=youtu.be)"
   ]
  },
  {
   "cell_type": "code",
   "execution_count": 7,
   "metadata": {},
   "outputs": [
    {
     "name": "stdout",
     "output_type": "stream",
     "text": [
      "[2, 3, 5, 7, 11, 13, 17, 19, 23, 29, 31, 37, 41, 43, 47, 53, 59, 61, 67, 71, 73, 79, 83, 89, 97]\n"
     ]
    }
   ],
   "source": [
    "def sieve(n):\n",
    "\n",
    "    # 1. Set list of potential primes\n",
    "    primes = list(range(2,n+1))\n",
    "\n",
    "    # 2.  set iteration counter\n",
    "    i = 2\n",
    "    while i <= math.sqrt(n):\n",
    "\n",
    "        # 3. count up by i and remove from list\n",
    "        for j in range(i+i, n+1, i):\n",
    "            if j in primes: ## <------- if the number is not in the list, we ignore it\n",
    "                primes.remove(j)\n",
    "\n",
    "        # 4. find first number following i in list\n",
    "        next_prime_idx = linear_search(primes, i) + 1 ## <----------- we can use the linear search algorithm from earlier!\n",
    "        \n",
    "        # 5. set i to this number\n",
    "        i = primes[next_prime_idx]\n",
    "\n",
    "        # 6. repeat..  \n",
    "    \n",
    "    # 7. return list of primes\n",
    "    return primes\n",
    "\n",
    "    \n",
    "\n",
    "print(sieve(100))"
   ]
  },
  {
   "cell_type": "markdown",
   "metadata": {},
   "source": [
    "**Answer:** see A5.py"
   ]
  },
  {
   "cell_type": "markdown",
   "metadata": {},
   "source": [
    "# More Problems"
   ]
  },
  {
   "cell_type": "markdown",
   "metadata": {},
   "source": [
    "See [Project Euler](https://projecteuler.net/about)."
   ]
  }
 ],
 "metadata": {
  "kernelspec": {
   "display_name": "Python 3 (ipykernel)",
   "language": "python",
   "name": "python3"
  },
  "language_info": {
   "codemirror_mode": {
    "name": "ipython",
    "version": 3
   },
   "file_extension": ".py",
   "mimetype": "text/x-python",
   "name": "python",
   "nbconvert_exporter": "python",
   "pygments_lexer": "ipython3",
   "version": "3.11.7"
  },
  "toc-autonumbering": true
 },
 "nbformat": 4,
 "nbformat_minor": 4
}
