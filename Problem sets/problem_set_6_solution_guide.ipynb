{
 "cells": [
  {
   "cell_type": "markdown",
   "metadata": {},
   "source": [
    "# Problem set 6: Solving the Solow model "
   ]
  },
  {
   "cell_type": "code",
   "execution_count": null,
   "metadata": {},
   "outputs": [],
   "source": [
    "import numpy as np\n",
    "from scipy import linalg\n",
    "from scipy import optimize\n",
    "import sympy as sm"
   ]
  },
  {
   "cell_type": "markdown",
   "metadata": {},
   "source": [
    "# Tasks"
   ]
  },
  {
   "cell_type": "markdown",
   "metadata": {},
   "source": [
    "## Solving matrix equations I"
   ]
  },
  {
   "cell_type": "code",
   "execution_count": null,
   "metadata": {},
   "outputs": [],
   "source": [
    "np.random.seed(1900)\n",
    "n = 5\n",
    "A = np.random.uniform(size=(n,n))\n",
    "b = np.random.uniform(size=n)\n",
    "c = np.random.uniform(size=n)\n",
    "d = np.random.uniform(size=n)"
   ]
  },
  {
   "cell_type": "markdown",
   "metadata": {},
   "source": [
    "**Question A:** Find the determinant of $[A \\cdot A]^{-1}$"
   ]
  },
  {
   "cell_type": "code",
   "execution_count": null,
   "metadata": {},
   "outputs": [],
   "source": [
    "# write your code here\n",
    "np.linalg.det(np.linalg.inv(A@A)) ##<----- @ is matrix multiplication"
   ]
  },
  {
   "cell_type": "markdown",
   "metadata": {},
   "source": [
    "**Answer:** see A1.py"
   ]
  },
  {
   "cell_type": "markdown",
   "metadata": {},
   "source": [
    "**Question B:** Solve the following equation systems directly using **scipy**.\n",
    "\n",
    "$$\n",
    "\\begin{aligned}\n",
    "Ax &= b \\\\\n",
    "Ax &= c \\\\\n",
    "Ax &= d \n",
    "\\end{aligned}\n",
    "$$"
   ]
  },
  {
   "cell_type": "code",
   "execution_count": null,
   "metadata": {},
   "outputs": [],
   "source": [
    "print(linalg.solve(A, b))\n",
    "print(linalg.solve(A, c))\n",
    "print(linalg.solve(A, d))"
   ]
  },
  {
   "cell_type": "code",
   "execution_count": null,
   "metadata": {},
   "outputs": [],
   "source": [
    "## this approach works but is slow... This is beacue it relies on matrix inversion each time it solves an equation\n",
    "%timeit linalg.solve(A,b); linalg.solve(A, c); linalg.solve(A, d)"
   ]
  },
  {
   "cell_type": "markdown",
   "metadata": {},
   "source": [
    "**Answer:** A2.py"
   ]
  },
  {
   "cell_type": "markdown",
   "metadata": {},
   "source": [
    "**Question C:** Solve the same equation systems as above using `linalg.lu_factor()` and `linalg.lu_solve()`. What is the benefit of this approach?"
   ]
  },
  {
   "cell_type": "code",
   "execution_count": null,
   "metadata": {},
   "outputs": [],
   "source": [
    "lu, piv = linalg.lu_factor(A)\n",
    "\n",
    "print(linalg.lu_solve((lu, piv), b))\n",
    "print(linalg.lu_solve((lu, piv), c))\n",
    "print(linalg.lu_solve((lu, piv), d))"
   ]
  },
  {
   "cell_type": "code",
   "execution_count": null,
   "metadata": {},
   "outputs": [],
   "source": [
    "## much faster - no matrix inversion + we can reuse the LU factorization between the three systems\n",
    "%timeit lu, piv = linalg.lu_factor(A); linalg.lu_solve((lu, piv), b); linalg.lu_solve((lu, piv), c); linalg.lu_solve((lu, piv), d)"
   ]
  },
  {
   "cell_type": "code",
   "execution_count": null,
   "metadata": {},
   "outputs": [],
   "source": [
    "## this is especially beneficial if we solve several equations using the same A!"
   ]
  },
  {
   "cell_type": "markdown",
   "metadata": {},
   "source": [
    "**Answer:** A3.py"
   ]
  },
  {
   "cell_type": "markdown",
   "metadata": {},
   "source": [
    "## Solving matrix equations II"
   ]
  },
  {
   "cell_type": "code",
   "execution_count": null,
   "metadata": {},
   "outputs": [],
   "source": [
    "F = np.array([[2.0, 1.0, -1.0], [-3.0, -1.0, 2], [-2.0, 1.0, 2.0]])\n",
    "e = np.array([8.0, -11.0, -3.0])"
   ]
  },
  {
   "cell_type": "markdown",
   "metadata": {},
   "source": [
    "**Question:** Use the function `gauss_jordan()` in the `numecon_linalg` module located in this folder to solve\n",
    "\n",
    "$$\n",
    "Fx = e\n",
    "$$"
   ]
  },
  {
   "cell_type": "code",
   "execution_count": null,
   "metadata": {},
   "outputs": [],
   "source": [
    "# write your code here\n",
    "import numecon_linalg as nl\n",
    "\n",
    "Fe = np.column_stack((F,e)) ## Concatenate matrix and vector\n",
    "nl.gauss_jordan(Fe) ## Fe is updated in place\n",
    "x = Fe[:,-1] ## last column of reduced matrix is solution\n",
    "print(x) "
   ]
  },
  {
   "cell_type": "markdown",
   "metadata": {},
   "source": [
    "**Answer:** see A4.py"
   ]
  },
  {
   "cell_type": "markdown",
   "metadata": {},
   "source": [
    "## Symbolic"
   ]
  },
  {
   "cell_type": "markdown",
   "metadata": {},
   "source": [
    "**Question A:** Find\n",
    "\n",
    "$$\n",
    "\\lim_{x \\rightarrow 0} \\frac{\\sin(x)}{x}\n",
    "$$\n",
    "\n",
    "and\n",
    "\n",
    "$$\n",
    "\\frac{\\partial\\sin(2x)}{\\partial x} \n",
    "$$"
   ]
  },
  {
   "cell_type": "code",
   "execution_count": null,
   "metadata": {},
   "outputs": [],
   "source": [
    "# write your code here\n",
    "x = sm.symbols('x')\n",
    "f1 = sm.sin(x)/x\n",
    "print('limit:', sm.limit(f1,x,0))\n",
    "\n",
    "f2 = sm.sin(2*x)\n",
    "print('derivative:',sm.diff(f2))"
   ]
  },
  {
   "cell_type": "markdown",
   "metadata": {},
   "source": [
    "**Question B:** Solve the equation\n",
    "\n",
    "$$ \n",
    "\\frac{\\sin(x)}{x} = 0\n",
    "$$"
   ]
  },
  {
   "cell_type": "code",
   "execution_count": null,
   "metadata": {},
   "outputs": [],
   "source": [
    "# write your code here\n",
    "sm.solve(f1, x) ## one solution"
   ]
  },
  {
   "cell_type": "code",
   "execution_count": null,
   "metadata": {},
   "outputs": [],
   "source": [
    "## solveset can find the set of solutios\n",
    "sm.solveset(f1, x)"
   ]
  },
  {
   "cell_type": "markdown",
   "metadata": {},
   "source": [
    "**Answer:** A6.py"
   ]
  },
  {
   "cell_type": "markdown",
   "metadata": {},
   "source": [
    "# Problem: Solve the Solow model"
   ]
  },
  {
   "cell_type": "markdown",
   "metadata": {},
   "source": [
    "## Introduction"
   ]
  },
  {
   "cell_type": "markdown",
   "metadata": {},
   "source": [
    "Consider the **standard Solow-model** where:\n",
    "\n",
    "1. $K_t$ is capital2\n",
    "2. $L_t$ is labor (growing with a constant rate of $n$)\n",
    "3. $A_t$ is technology (growing with a constant rate of $g$)\n",
    "4. $Y_t = F(K_t,A_tL_t)$ is GDP\n",
    "\n",
    "**Saving** is a constant fraction of GDP\n",
    "\n",
    "$$ \n",
    "S_t = sY_t,\\,s\\in(0,1)\n",
    "$$\n",
    "\n",
    "such that **capital accumulates** according to\n",
    "\n",
    "$$\n",
    "K_{t+1}=S_{t}+(1-\\delta)K_{t}=sF(K_{t},A_{t}L_{t})+(1-\\delta)K_{t}, \\delta \\in (0,1)\n",
    "$$\n",
    "\n",
    "The **production function** has **constant-return to scale** such that\n",
    "\n",
    "$$\n",
    "\\frac{Y_{t}}{A_{t}L_{t}}=\\frac{F(K_{t},A_{t}L_{t})}{A_{t}L_{t}}=F(\\tilde{k}_{t},1)\\equiv f(\\tilde{k}_{t})\n",
    "$$\n",
    "\n",
    "where $\\tilde{k}_t = \\frac{K_t}{A_{t}L_{t}}$ is the technology adjusted capital-labor ratio.\n",
    "\n",
    "The **transition equation** then becomes\n",
    "\n",
    "$$\n",
    "\\tilde{k}_{t+1}= \\frac{1}{(1+n)(1+g)}[sf(\\tilde{k}_{t})+(1-\\delta)\\tilde{k}_{t}]\n",
    "$$\n",
    "\n",
    "If the **production function** is **Cobb-Douglas** then\n",
    "\n",
    "$$\n",
    "F(K_{t},A_{t}L_{t})=K_{t}^{\\alpha}(A_{t}L_{t})^{1-\\alpha}\\Rightarrow f(\\tilde{k}_{t})=\\tilde{k}_{t}^{\\alpha}\n",
    "$$\n",
    "\n",
    "If it is **CES** (with $\\beta < 1, \\beta \\neq 0$) then\n",
    "\n",
    "$$\n",
    "F(K_{t},A_{t}L_{t})=(\\alpha K_{t}^{\\beta}+(1-\\alpha)(A_{t}L_{t})^{\\beta})^{\\frac{1}{\\beta}}\\Rightarrow f(\\tilde{k}_{t})=(\\alpha\\tilde{k}_{t}^{\\beta}+(1-\\alpha))^{\\frac{1}{\\beta}}\n",
    "$$"
   ]
  },
  {
   "cell_type": "markdown",
   "metadata": {},
   "source": [
    "## Steady state"
   ]
  },
  {
   "cell_type": "markdown",
   "metadata": {},
   "source": [
    "Assume the production function is **Cobb-Douglas**."
   ]
  },
  {
   "cell_type": "markdown",
   "metadata": {},
   "source": [
    "**Question A:** Use **sympy** to find an analytical expression for the steady state, i.e. solve\n",
    "\n",
    "$$\n",
    "\\tilde{k}^{\\ast}= \\frac{1}{(1+n)(1+g)}[sf(\\tilde{k}^{\\ast})+(1-\\delta)\\tilde{k}^{\\ast}]\n",
    "$$"
   ]
  },
  {
   "cell_type": "code",
   "execution_count": null,
   "metadata": {},
   "outputs": [],
   "source": [
    "k = sm.symbols('k')\n",
    "alpha = sm.symbols('alpha')\n",
    "delta = sm.symbols('delta')\n",
    "s = sm.symbols('s')\n",
    "g = sm.symbols('g')\n",
    "n = sm.symbols('n')"
   ]
  },
  {
   "cell_type": "code",
   "execution_count": null,
   "metadata": {},
   "outputs": [],
   "source": [
    "f = k**alpha                                ## define production function\n",
    "k_next = 1/((1+n)*(1+g)) * (s*f + (1-delta)*k)  ## transition in k\n",
    "k_ss = sm.solve(k_next-k, k)[0]             ## solve for steady state\n",
    "k_ss"
   ]
  },
  {
   "cell_type": "markdown",
   "metadata": {},
   "source": [
    "**Answer:** see A7.py"
   ]
  },
  {
   "cell_type": "markdown",
   "metadata": {},
   "source": [
    "**Question B:** Turn you solution into a Python function called as `ss_func(s,g,n,delta,alpha)`. "
   ]
  },
  {
   "cell_type": "code",
   "execution_count": null,
   "metadata": {},
   "outputs": [],
   "source": [
    "ss_func = sm.lambdify((s,g,n,delta,alpha), k_ss) ## use sm.lambdify to turn k_ss into function \n",
    "\n",
    "## we can now use it to evaluate ss as function of parameters\n",
    "ss_func(0.2, 0.02, 0.01, 0.1, 1/3)"
   ]
  },
  {
   "cell_type": "markdown",
   "metadata": {},
   "source": [
    "**Answer:** A8.py"
   ]
  },
  {
   "cell_type": "markdown",
   "metadata": {},
   "source": [
    "**Question C**: Find the steady state numerically using root-finding with `optimize.root_scalar`."
   ]
  },
  {
   "cell_type": "code",
   "execution_count": null,
   "metadata": {},
   "outputs": [],
   "source": [
    "s = 0.2\n",
    "g = 0.02\n",
    "n = 0.01\n",
    "alpha = 1/3\n",
    "delta = 0.1\n",
    "\n",
    "## I create a simple namespace to hold parameters for convenience\n",
    "from types import SimpleNamespace\n",
    "par = SimpleNamespace()\n",
    "par.s = s\n",
    "par.g = g\n",
    "par.n = n\n",
    "par.alpha = alpha\n",
    "par.delta = delta\n",
    "\n",
    "## production function\n",
    "def f_CD(k,par):\n",
    "    return k**par.alpha\n",
    "\n",
    "## transition\n",
    "def k_next(k, f, par): ## note how I give the production funciton f as input \n",
    "    return 1/((1+par.n)*(1+par.g)) * (par.s*f(k, par) + (1-par.delta)*k)\n",
    "\n",
    "## find steady state\n",
    "def find_ss(par, f, bracket=(0.1, 10)):\n",
    "    # objective: k_next - k = 0\n",
    "    obj = lambda k: k_next(k, f, par) - k\n",
    "    res = optimize.root_scalar(obj, bracket=bracket) \n",
    "    assert res.converged\n",
    "    return res.root\n",
    "\n",
    "## call the steady state function (with production function as input)\n",
    "ss_CD = find_ss(par, f_CD)\n",
    "print(f'root finder: {ss_CD:5.4f}')\n",
    "\n",
    "## does this align with the symbolic solution?\n",
    "print(f'sympy: {ss_func(s,g,n,delta,alpha):5.4f}')"
   ]
  },
  {
   "cell_type": "markdown",
   "metadata": {},
   "source": [
    "**Answer:** A9.py"
   ]
  },
  {
   "cell_type": "markdown",
   "metadata": {},
   "source": [
    "**Question D:** Now assume the production function is CES. Find the steady state for $k$ for the various values of $\\beta$ shown below."
   ]
  },
  {
   "cell_type": "code",
   "execution_count": null,
   "metadata": {},
   "outputs": [],
   "source": [
    "betas = [-0.5,-0.25,-0.1,-0.05,0.05,0.1,0.25,0.5]\n",
    "\n",
    "# write your code here\n",
    "def f_CES(k, par):\n",
    "    return (par.alpha*k**par.beta + (1-par.alpha))**(1/par.beta)\n",
    "\n",
    "ks = []\n",
    "\n",
    "## loop through list of betas\n",
    "for beta in betas:\n",
    "    par.beta = beta ## update beta\n",
    "    k_ss = find_ss(par, f_CES) ## I can just use the steady state function from earlier and update the produciton function\n",
    "    ks.append(k_ss)"
   ]
  },
  {
   "cell_type": "code",
   "execution_count": null,
   "metadata": {},
   "outputs": [],
   "source": [
    "import matplotlib.pyplot as plt\n",
    "\n",
    "fig = plt.figure()\n",
    "ax = fig.add_axes(111)\n",
    "ax.plot(betas, ks)\n",
    "ax.set_xlabel('$\\\\beta$')\n",
    "ax.set_ylabel('$k^*$')\n",
    "ax.grid(True)\n",
    "\n",
    "## So: increasing beta (substitutability) increases effective capital per worker\n",
    "\n",
    "## Sanity check: when beta = 0, CES reduces to Cobb-Douglas. Lets check that this aligns with our findings from the previous problem\n",
    "ax.scatter(0, ss_CD, label='Cobb Douglass production')\n",
    "ax.legend()"
   ]
  },
  {
   "cell_type": "code",
   "execution_count": null,
   "metadata": {},
   "outputs": [],
   "source": [
    "## could we have solved the CES-model with sympy?\n",
    "k = sm.symbols('k')\n",
    "alpha = sm.symbols('alpha')\n",
    "delta = sm.symbols('delta')\n",
    "s = sm.symbols('s')\n",
    "g = sm.symbols('g')\n",
    "n = sm.symbols('n')\n",
    "beta = sm.symbols('beta')\n",
    "\n",
    "f = (alpha*k**beta + (1-alpha))**(1/beta)                ## new production function\n",
    "k_next = 1/((1+n)*(1+g)) * (s*f + (1-delta)*k)  \n",
    "# k_ss = sm.solve(k_next-k, k)[0] ## <---------------- try uncommenting this line"
   ]
  },
  {
   "cell_type": "markdown",
   "metadata": {
    "tags": []
   },
   "source": [
    "**Answer:** A10.py   "
   ]
  }
 ],
 "metadata": {
  "kernelspec": {
   "display_name": "Python 3 (ipykernel)",
   "language": "python",
   "name": "python3"
  },
  "language_info": {
   "codemirror_mode": {
    "name": "ipython",
    "version": 3
   },
   "file_extension": ".py",
   "mimetype": "text/x-python",
   "name": "python",
   "nbconvert_exporter": "python",
   "pygments_lexer": "ipython3",
   "version": "3.11.7"
  },
  "toc-autonumbering": true
 },
 "nbformat": 4,
 "nbformat_minor": 4
}
