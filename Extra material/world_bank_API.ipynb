{
 "cells": [
  {
   "cell_type": "markdown",
   "metadata": {},
   "source": [
    "# Fetching World Bank data using an API"
   ]
  },
  {
   "cell_type": "markdown",
   "metadata": {},
   "source": [
    "An API is a communication line between your computer and a database owned by someone else. By accessing the API with Python, we can automate the process of downloading data. \n",
    "\n",
    "This notebook demonstrates how to Python to interact with the World Bank's API to download some data on life expectancy across countries. We will do this in two ways:\n",
    "* Simple way: Using the pandas-datareader package.\n",
    "* General way: Interacting directly with the API using the requests package."
   ]
  },
  {
   "cell_type": "markdown",
   "metadata": {},
   "source": [
    "## Simple way: Using **pandas-datareader**"
   ]
  },
  {
   "cell_type": "markdown",
   "metadata": {},
   "source": [
    "The python package pandas-datareader is a package that helps you interact with a number of different API's. The package conects to the API, fetches the data and parses it in a way that makes it manageable for you to work with. As we will see later, this is a big help!"
   ]
  },
  {
   "cell_type": "markdown",
   "metadata": {},
   "source": [
    "Before we download data, we should **always check out the documentation**! This helps us understand the syntax to use, which keywords to provide etc. The documentation for pandas-datareader is [here](https://pandas-datareader.readthedocs.io/en/latest/). We are interested in data from The World Bank, which is [here](https://pandas-datareader.readthedocs.io/en/latest/remote_data.html#remote-data-wb)."
   ]
  },
  {
   "cell_type": "markdown",
   "metadata": {},
   "source": [
    "We should of course also know the **data source** well. Let's have a look at the World Bank's data page to find the name of the dataset we want."
   ]
  },
  {
   "cell_type": "code",
   "execution_count": null,
   "metadata": {},
   "outputs": [],
   "source": [
    "from pandas_datareader import wb ## wb is the World Bank API\n",
    "import pandas as pd"
   ]
  },
  {
   "cell_type": "markdown",
   "metadata": {},
   "source": [
    "The documentation tells us that we can look though the variables available with wb.get_indicators():"
   ]
  },
  {
   "cell_type": "code",
   "execution_count": null,
   "metadata": {},
   "outputs": [],
   "source": [
    "indicators = wb.get_indicators()\n",
    "display(indicators)"
   ]
  },
  {
   "cell_type": "markdown",
   "metadata": {},
   "source": [
    "We can also search through indicators using wb.search():"
   ]
  },
  {
   "cell_type": "code",
   "execution_count": null,
   "metadata": {},
   "outputs": [],
   "source": [
    "matches = wb.search('life expectancy at birth')\n",
    "display(matches)"
   ]
  },
  {
   "cell_type": "markdown",
   "metadata": {},
   "source": [
    "It seems like the indicator SP.DYN.LE00.IN contains the information we want. Let's set up the parameters for the API call and download the data:"
   ]
  },
  {
   "cell_type": "code",
   "execution_count": null,
   "metadata": {},
   "outputs": [],
   "source": [
    "params = {'symbols': 'SP.DYN.LE00.IN',\n",
    "          'countries': ['US', 'CA', 'MX'], ## US, Canada, Mexico\n",
    "          'start': 1980,\n",
    "          'end': 2022,} \n",
    "wbdf = wb.WorldBankReader(**params).read()"
   ]
  },
  {
   "cell_type": "markdown",
   "metadata": {},
   "source": [
    "Let's checkout the data!"
   ]
  },
  {
   "cell_type": "code",
   "execution_count": null,
   "metadata": {},
   "outputs": [],
   "source": [
    "wbdf.head()"
   ]
  },
  {
   "cell_type": "code",
   "execution_count": null,
   "metadata": {},
   "outputs": [],
   "source": [
    "(wbdf.reset_index()\n",
    "    .pivot(index='year', columns='country', values='SP.DYN.LE00.IN')\n",
    "    .plot(title='Life Expectancy at Birth'))"
   ]
  },
  {
   "cell_type": "markdown",
   "metadata": {},
   "source": [
    "## General way: Using the **requests** package"
   ]
  },
  {
   "cell_type": "markdown",
   "metadata": {},
   "source": [
    "Some (most) API's don't have pre-written python packages that helps us interact with them. Instead, we must use the \n",
    "\n",
    "The package **requests** allows us to access the internet and download data. It is well suited for API access and web scraping."
   ]
  },
  {
   "cell_type": "code",
   "execution_count": null,
   "metadata": {},
   "outputs": [],
   "source": [
    "import requests"
   ]
  },
  {
   "cell_type": "markdown",
   "metadata": {},
   "source": [
    "Let's get the same data directly from the world Bank API. See documentation [here](https://datahelpdesk.worldbank.org/knowledgebase/topics/125589-developer-information).\n",
    "\n",
    "We access the API through an url. The documentation tells us that the \"base\" url for the World Bank API is \"https://api.worldbank.org/v2\". On top of that, we need to provide it with information about wich indicators, countries and years, we want:"
   ]
  },
  {
   "cell_type": "code",
   "execution_count": null,
   "metadata": {},
   "outputs": [],
   "source": [
    "url = 'https://api.worldbank.org/v2'        ## base\n",
    "url = url + '/country/USA;CAN;MEX'          ## countries\n",
    "url = url + '/indicator/SP.DYN.LE00.IN'     ## indicator\n",
    "url = url + '?date=1980:2022'               ## date range\n",
    "\n",
    "url = url + '&format=json'                  ## response format\n",
    "url = url + '&per_page=1000'                ## max per page\n",
    "\n",
    "print(url)"
   ]
  },
  {
   "cell_type": "markdown",
   "metadata": {},
   "source": [
    "Let's download the data using requests.get:"
   ]
  },
  {
   "cell_type": "code",
   "execution_count": null,
   "metadata": {},
   "outputs": [],
   "source": [
    "wb_raw = requests.get(url).json() ## get the data and parse is as JSON"
   ]
  },
  {
   "cell_type": "code",
   "execution_count": null,
   "metadata": {},
   "outputs": [],
   "source": [
    "## Let's have a look..\n",
    "print(wb_raw)\n",
    "\n",
    "## oh no..."
   ]
  },
  {
   "cell_type": "markdown",
   "metadata": {},
   "source": [
    "We need to have a inspect the output a bit to see what is what... Turns out that wb_raw is a list, where the first element wb_raw[0] contains metadata about the API call and the second element wb_raw[1] contains the actual data. Let's clean it up a bit..."
   ]
  },
  {
   "cell_type": "code",
   "execution_count": null,
   "metadata": {},
   "outputs": [],
   "source": [
    "wb_clean = (pd.DataFrame(wb_raw[1])\n",
    "          .loc[:, ['countryiso3code', 'date', 'value']]\n",
    "          .rename(columns={'countryiso3code': 'country',\n",
    "                           'date': 'year',\n",
    "                           'value': 'life_expectancy'})\n",
    "          .replace({'country': {'CAN': 'Canada', 'MEX': 'Mexico', 'USA': 'United States'}})\n",
    "          .pivot(index='year', columns='country', values='life_expectancy'))"
   ]
  },
  {
   "cell_type": "code",
   "execution_count": null,
   "metadata": {},
   "outputs": [],
   "source": [
    "wb_clean.plot(title='Life Expectancy at Birth');"
   ]
  },
  {
   "cell_type": "markdown",
   "metadata": {},
   "source": [
    "The data is the same but it took a few more steps to get to the end result - in the previous section, pandas-datareader constructed the url and did the data cleaning for us!\n",
    "\n",
    "But it is nice to know how to do these things ourselves. We might one day need to work with an API that does not have a pre-written python package!"
   ]
  },
  {
   "cell_type": "markdown",
   "metadata": {},
   "source": [
    "## Relevant info for working with API's\n",
    "* Some API's are free to use. Some require you to authenticate yourself by providing a use-specific access token in the url. \n",
    "* API's sometimes limit the amount of data you can download in one request. If you want to download large amounts of data, you might need to split the download into several requests.\n",
    "* Somtimes, API's also limit the number of requests you can make within a certain timespan. Remember that each time you run the line of code that downloads data (eg. wb.WorldBankReader.read, requests.get), you make a new request.\n",
    "* Some API's require payment to use.\n",
    "\n",
    "All of this differs from API to API. Therefore, **read the documentation**! It'll tell you exactly how to interact with the API and what information to provide it."
   ]
  }
 ],
 "metadata": {
  "kernelspec": {
   "display_name": "base",
   "language": "python",
   "name": "python3"
  },
  "language_info": {
   "codemirror_mode": {
    "name": "ipython",
    "version": 3
   },
   "file_extension": ".py",
   "mimetype": "text/x-python",
   "name": "python",
   "nbconvert_exporter": "python",
   "pygments_lexer": "ipython3",
   "version": "3.11.7"
  }
 },
 "nbformat": 4,
 "nbformat_minor": 2
}
