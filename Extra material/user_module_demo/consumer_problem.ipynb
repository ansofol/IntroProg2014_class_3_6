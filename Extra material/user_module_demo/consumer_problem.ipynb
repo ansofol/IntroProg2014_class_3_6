{
 "cells": [
  {
   "cell_type": "markdown",
   "metadata": {},
   "source": [
    "## Solving a consumer problem"
   ]
  },
  {
   "cell_type": "markdown",
   "metadata": {},
   "source": [
    "Consider a simple consumer problem:\n",
    "\n",
    "$$\n",
    "\\max_{c, \\ell} \\frac{c^{1-\\sigma}}{1-\\sigma} - \\frac{\\ell^{1+\\nu}}{1+\\nu} \\\\\n",
    "\\text st. \\quad c \\leq w\\ell\n",
    "$$\n",
    "\n",
    "In words: choose consumption $c$ and labor supply $\\ell$ subject to budget constraint."
   ]
  },
  {
   "cell_type": "markdown",
   "metadata": {},
   "source": [
    "### First approach: using global scope functions "
   ]
  },
  {
   "cell_type": "code",
   "execution_count": 1,
   "metadata": {},
   "outputs": [
    {
     "name": "stdout",
     "output_type": "stream",
     "text": [
      "Optimal consumption:   1.227\n",
      "Optimal labor supply:  0.818\n"
     ]
    }
   ],
   "source": [
    "import numpy as np\n",
    "from scipy import optimize\n",
    "\n",
    "# set parameters:\n",
    "sigma = 2.0\n",
    "nu = 0.01\n",
    "w = 1.5\n",
    "\n",
    "# define utility function\n",
    "def utility(c, l, sigma, nu):\n",
    "    u = (c**(1-sigma))/(1-sigma) - (l**(1+nu))/(1+nu)\n",
    "    return u\n",
    "\n",
    "# define budget constraint (negative when violated)\n",
    "def budget_constr(c, l, w):\n",
    "    return w*l-c\n",
    "\n",
    "# define optimization\n",
    "def optimize_consumer(sigma, nu, w):\n",
    "    obj = lambda x: -utility(x[0], x[1], sigma, nu)\n",
    "    constr = lambda x: budget_constr(x[0], x[1], w)\n",
    "    c0 = 4.0\n",
    "    l0 = c0/w\n",
    "    res = optimize.minimize(fun=obj, x0=[c0,l0], constraints={'type':'ineq', 'fun': constr}, method='SLSQP')\n",
    "    return res.x[0], res.x[1]\n",
    "\n",
    "c_best, l_best = optimize_consumer(sigma, nu, w)\n",
    "print(f'Optimal consumption: {c_best:7.3f}')\n",
    "print(f'Optimal labor supply: {l_best: 4.3f}')"
   ]
  },
  {
   "cell_type": "markdown",
   "metadata": {},
   "source": [
    "This works, but there are wuite many lines of code - with larger models it can quickly get out of hand.\n",
    "\n",
    "Note that sigma, nu, w and the functions utility, budget_constr, optimize_consumer all lie in the global scope - so watch out for bugs!"
   ]
  },
  {
   "cell_type": "markdown",
   "metadata": {},
   "source": [
    "### Second approach: Importing functions from user-defined module"
   ]
  },
  {
   "cell_type": "code",
   "execution_count": 2,
   "metadata": {},
   "outputs": [
    {
     "name": "stdout",
     "output_type": "stream",
     "text": [
      "Optimal consumption:   1.227\n",
      "Optimal labor supply:  0.818\n"
     ]
    }
   ],
   "source": [
    "# include these two lines when working with user defined modules - they ensure that the modules are reloaded and changes included each time you run a cell\n",
    "%load_ext autoreload \n",
    "%autoreload 2\n",
    "\n",
    "import consumer_functions as cons_f\n",
    "\n",
    "# set parameters:\n",
    "sigma = 2.0\n",
    "nu = 0.01\n",
    "w = 1.5\n",
    "\n",
    "c_best, l_best = cons_f.optimize_consumer(sigma, nu, w)\n",
    "print(f'Optimal consumption: {c_best:7.3f}')\n",
    "print(f'Optimal labor supply: {l_best: 4.3f}')"
   ]
  },
  {
   "cell_type": "markdown",
   "metadata": {},
   "source": [
    "Much neater code, since the \"meat\" is hidden away in a .py-file. However, we still use a lot of global scope variables..."
   ]
  },
  {
   "cell_type": "markdown",
   "metadata": {},
   "source": [
    "### Third approach: Importing consumer class from user-defined module"
   ]
  },
  {
   "cell_type": "code",
   "execution_count": 3,
   "metadata": {},
   "outputs": [
    {
     "name": "stdout",
     "output_type": "stream",
     "text": [
      "Optimal consumption:   1.227\n",
      "Optimal labor supply:  0.818\n"
     ]
    }
   ],
   "source": [
    "from consumer_class import Consumer\n",
    "\n",
    "model = Consumer()\n",
    "c_best, l_best = model.optimize_consumer()\n",
    "print(f'Optimal consumption: {c_best:7.3f}')\n",
    "print(f'Optimal labor supply: {l_best: 4.3f}')"
   ]
  },
  {
   "cell_type": "markdown",
   "metadata": {},
   "source": [
    "Even fewer lines now, and now all variables and functions are defined and now all functions and parameters are stored in the model object. That makes it (almost) impossible to have scope bugs!"
   ]
  }
 ],
 "metadata": {
  "kernelspec": {
   "display_name": "base",
   "language": "python",
   "name": "python3"
  },
  "language_info": {
   "codemirror_mode": {
    "name": "ipython",
    "version": 3
   },
   "file_extension": ".py",
   "mimetype": "text/x-python",
   "name": "python",
   "nbconvert_exporter": "python",
   "pygments_lexer": "ipython3",
   "version": "3.11.7"
  }
 },
 "nbformat": 4,
 "nbformat_minor": 2
}
